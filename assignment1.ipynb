{
 "cells": [
  {
   "cell_type": "markdown",
   "metadata": {},
   "source": [
    "# Assignment 1\n",
    "#### December 2nd 2021\n",
    "In this Practical Assignment you will first simulate a New Keynesian model with no shocks and no state variables. Then you will calculate the minimum state variable (MSV) solution of this model, which - for this case - consists of constants and coincides with the model’s steady state."
   ]
  },
  {
   "cell_type": "code",
   "execution_count": 1,
   "metadata": {},
   "outputs": [],
   "source": [
    "import numpy as np\n",
    "import matplotlib.pyplot as plt\n",
    "from scipy.optimize import fsolve"
   ]
  },
  {
   "cell_type": "code",
   "execution_count": 31,
   "metadata": {},
   "outputs": [],
   "source": [
    "# parameter specifications\n",
    "sigma= 2\n",
    "kappa=0.3\n",
    "beta=0.99\n",
    "phi_1=1.5\n",
    "phi_2=0.2\n",
    "\n",
    "# initialize arrays for results\n",
    "N = 1000\n",
    "\n",
    "Y = np.zeros(N)\n",
    "EY = np.zeros(N)\n",
    "pi = np.zeros(N)\n",
    "Epi = np.zeros(N)\n",
    "i = np.zeros(N)\n",
    "\n",
    "# 1\n",
    "Y[0] = 0.1\n",
    "pi[0] = -0.2\n",
    "\n",
    "for t in range(1,N):\n",
    "    EY[t] = Y[t-1]\n",
    "    Epi[t] = pi[t-1]\n",
    "\n",
    "    i[t] = phi_1*Epi[t] + phi_2*EY[t]\n",
    "    Y[t] = EY[t] - 1/sigma * (i[t]- Epi[t])\n",
    "    pi[t] = beta*Epi[t] + kappa*Y[t]"
   ]
  },
  {
   "cell_type": "code",
   "execution_count": 32,
   "metadata": {},
   "outputs": [
    {
     "data": {
      "image/png": "[encoded data removed]",
      "text/plain": [
       "<Figure size 432x288 with 4 Axes>"
      ]
     },
     "metadata": {
      "needs_background": "light"
     },
     "output_type": "display_data"
    }
   ],
   "source": [
    "# 2\n",
    "\n",
    "plt.subplot(2,2,1)\n",
    "plt.plot([Y[t]*100 for t in range(N)], linewidth = 2)\n",
    "plt.title('Y: Output')\n",
    "\n",
    "plt.subplot(2,2,2)\n",
    "plt.plot([pi[t]*100 for t in range(N)], linewidth = 2)\n",
    "plt.title('pi: Inflation')\n",
    "\n",
    "plt.subplot(2,2,3)\n",
    "plt.plot([EY[t]*100 for t in range(N)], linewidth = 2)\n",
    "plt.title('EY: Expected Output')\n",
    "\n",
    "plt.subplot(2,2,4)\n",
    "plt.plot([i[t]*100 for t in range(N)], linewidth = 2)\n",
    "plt.title('i: nominal interest rate')\n",
    "\n",
    "plt.tight_layout()"
   ]
  },
  {
   "cell_type": "code",
   "execution_count": 33,
   "metadata": {},
   "outputs": [
    {
     "name": "stdout",
     "output_type": "stream",
     "text": [
      "final output gap is:  1.231696496219241e-26\n",
      "final inflation is:  1.5641396428161345e-26\n"
     ]
    }
   ],
   "source": [
    "print('final output gap is: ', Y[N-1])\n",
    "print('final inflation is: ', pi[N-1])"
   ]
  },
  {
   "cell_type": "code",
   "execution_count": 35,
   "metadata": {},
   "outputs": [
    {
     "data": {
      "text/plain": [
       "array([[ 1.  ,  0.  , -0.5 ],\n",
       "       [ 0.3 ,  1.  , -0.15],\n",
       "       [ 0.  ,  0.  ,  1.  ]])"
      ]
     },
     "execution_count": 35,
     "metadata": {},
     "output_type": "execute_result"
    }
   ],
   "source": [
    "# 3\n",
    "A = np.array([[1, 0, 1/sigma], \n",
    "                [-kappa, 1, 0],\n",
    "                [0, 0, 1]])\n",
    "A_inv = np.linalg.inv(A)\n",
    "A_inv"
   ]
  },
  {
   "cell_type": "code",
   "execution_count": 59,
   "metadata": {},
   "outputs": [
    {
     "name": "stdout",
     "output_type": "stream",
     "text": [
      "[1.231696496219241e-26, 1.5641396428161345e-26, 2.1507955979595024e-26]\n"
     ]
    },
    {
     "data": {
      "text/plain": [
       "array([7.17491936e-27, 1.76374583e-26, 2.59254876e-26])"
      ]
     },
     "execution_count": 59,
     "metadata": {},
     "output_type": "execute_result"
    }
   ],
   "source": [
    "# 4\n",
    "def func4(expec_vec):\n",
    "    B = np.zeros(len(expec_vec))\n",
    "    expY, expPi, expi = expec_vec\n",
    "    \n",
    "    B[0] = expY + 1/sigma * expPi\n",
    "    B[1] = beta * expPi\n",
    "    B[2] = phi_1 * expPi + phi_2 * expY\n",
    "    \n",
    "    z = np.dot(A_inv,B)\n",
    "    return z\n",
    "\n",
    "print([Y[N-1], pi[N-1], i[N-1]])\n",
    "func4([Y[N-1], pi[N-1], i[N-1]])"
   ]
  },
  {
   "cell_type": "code",
   "execution_count": 61,
   "metadata": {},
   "outputs": [
    {
     "data": {
      "text/plain": [
       "array([-5.14204560e-27,  1.99606184e-27,  4.41753166e-27])"
      ]
     },
     "execution_count": 61,
     "metadata": {},
     "output_type": "execute_result"
    }
   ],
   "source": [
    "def func7(expec_vec):\n",
    "    B = np.zeros(len(expec_vec))\n",
    "    expY = expec_vec[0]\n",
    "    expPi = expec_vec[1]\n",
    "    \n",
    "    B[0] = expY + 1/sigma * expPi\n",
    "    B[1] = beta * expPi\n",
    "    B[2] = phi_1 * expPi + phi_2 * expY\n",
    "    \n",
    "    z = np.dot(A_inv,B)\n",
    "    diff = z - np.array(expec_vec)\n",
    "    \n",
    "    return diff\n",
    "\n",
    "func7([Y[N-1], pi[N-1], i[N-1]])"
   ]
  },
  {
   "cell_type": "code",
   "execution_count": 69,
   "metadata": {},
   "outputs": [
    {
     "name": "stdout",
     "output_type": "stream",
     "text": [
      "coefficients:  [1.5e-323 1.5e-323 2.5e-323] ier:  1 message:  The solution converged.\n"
     ]
    }
   ],
   "source": [
    "# 8\n",
    "init = [1,1,0]\n",
    "\n",
    "[coefficients, inf, ier, msg] = fsolve(func7, init, full_output = True)\n",
    "if ier != 1:\n",
    "    print(msg)\n",
    "\n",
    "print('coefficients: ', coefficients, 'ier: ', ier, 'message: ', msg)\n"
   ]
  },
  {
   "cell_type": "markdown",
   "metadata": {},
   "source": [
    "# Bonus Assignment"
   ]
  },
  {
   "cell_type": "code",
   "execution_count": 101,
   "metadata": {},
   "outputs": [
    {
     "name": "stdout",
     "output_type": "stream",
     "text": [
      "[1.00000000e+000 8.37331111e+140 1.00000000e+000 6.47714102e-175\n",
      " 4.59932697e-184 1.29542820e-174] The solution converged.\n",
      "[1.00000000e+000 8.37331111e+140 1.00000000e+000 6.47714102e-175\n",
      " 4.59932697e-184 1.29542820e-174] The solution converged.\n"
     ]
    }
   ],
   "source": [
    "import numpy as np\n",
    "import matplotlib.pyplot as plt\n",
    "from scipy.optimize import fsolve\n",
    "\n",
    "# parameter specifications\n",
    "sigma= 2\n",
    "kappa=0.3\n",
    "beta=0.99\n",
    "phi_1=1.5\n",
    "phi_2=0.2\n",
    "\n",
    "\n",
    "A = np.array([[1, 0, 1/sigma], \n",
    "                [-kappa, 1, 0],\n",
    "                [0, 0, 1]])\n",
    "A_inv = np.linalg.inv(A)\n",
    "\n",
    "#1\n",
    "\n",
    "def shock_model1(expec_vec):\n",
    "    B_shocked = np.zeros((3,2))\n",
    "    B_ex = np.zeros((3,2)) # expected values\n",
    "\n",
    "    expY = expec_vec[0]\n",
    "    expPi = expec_vec[1]\n",
    "    expi = expec_vec[2]\n",
    "\n",
    "\n",
    "    e1 = expec_vec[3]\n",
    "    e2 = expec_vec[4]\n",
    "    e3 = expec_vec[5] #in c) it is 1\n",
    "\n",
    "    # B as 3x2 matrix instead of 3x1\n",
    "    # expected values, shocks with mean 0\n",
    "    B_ex[0] = np.array([expY + 1/sigma * expPi, 0])\n",
    "    B_ex[1] = np.array([beta * expPi, 0])\n",
    "    B_ex[2] = np.array([phi_1 * expPi + phi_2 * expY, 0])\n",
    "    # with realized shock\n",
    "    B_shocked[0] = np.array([expY + 1/sigma * expPi, e1])\n",
    "    B_shocked[1] = np.array([beta * expPi, e2])\n",
    "    B_shocked[2] = np.array([phi_1 * expPi + phi_2 * expY, e3])\n",
    "\n",
    "    C_ex = np.dot(A_inv,B_ex)\n",
    "    C_shocked = np.dot(A_inv,B_shocked)\n",
    "    diff = C_ex - C_shocked\n",
    "    diff = diff.reshape(6,)\n",
    "    return diff\n",
    "\n",
    "#2\n",
    "init = [1,0,1,1,0,0]\n",
    "[coefficients, inf, ier, msg] = fsolve(shock_model1, init, full_output = True)\n",
    "print(coefficients,msg)\n",
    "\n",
    "#3 \n",
    "init3 = [1,0,1,1,0,1]\n",
    "[coefficients3, inf, ier, msg3] = fsolve(shock_model1, init, full_output = True)\n",
    "print(coefficients3,msg3)"
   ]
  }
 ],
 "metadata": {
  "interpreter": {
   "hash": "aee8b7b246df8f9039afb4144a1f6fd8d2ca17a180786b69acc140d282b71a49"
  },
  "kernelspec": {
   "display_name": "Python 3.9.1 64-bit",
   "language": "python",
   "name": "python3"
  },
  "language_info": {
   "codemirror_mode": {
    "name": "ipython",
    "version": 3
   },
   "file_extension": ".py",
   "mimetype": "text/x-python",
   "name": "python",
   "nbconvert_exporter": "python",
   "pygments_lexer": "ipython3",
   "version": "3.8.5"
  },
  "orig_nbformat": 4
 },
 "nbformat": 4,
 "nbformat_minor": 2
}
