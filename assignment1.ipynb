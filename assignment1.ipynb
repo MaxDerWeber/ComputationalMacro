{
 "cells": [
  {
   "cell_type": "markdown",
   "metadata": {},
   "source": [
    "# Assignment 1\n",
    "#### December 2nd 2021\n",
    "In this Practical Assignment you will first simulate a New Keynesian model with no shocks and no state variables. Then you will calculate the minimum state variable (MSV) solution of this model, which - for this case - consists of constants and coincides with the model’s steady state."
   ]
  },
  {
   "cell_type": "code",
   "execution_count": 2,
   "metadata": {},
   "outputs": [],
   "source": [
    "import numpy as np\n",
    "import matplotlib.pyplot as plt\n",
    "from scipy.optimize import fsolve"
   ]
  },
  {
   "cell_type": "code",
   "execution_count": 3,
   "metadata": {},
   "outputs": [],
   "source": [
    "# parameter specifications\n",
    "sigma= 2\n",
    "kappa=0.3\n",
    "beta=0.99\n",
    "phi_1=1.5\n",
    "phi_2=0.2\n",
    "\n",
    "# initialize arrays for results\n",
    "N = 1000\n",
    "\n",
    "Y = np.zeros(N)\n",
    "EY = np.zeros(N)\n",
    "pi = np.zeros(N)\n",
    "Epi = np.zeros(N)\n",
    "i = np.zeros(N)\n",
    "\n",
    "# 1\n",
    "Y[0] = 0.1\n",
    "pi[0] = 0.02\n",
    "\n",
    "for t in range(1,N):\n",
    "    EY[t] = Y[t-1]\n",
    "    Epi[t] = pi[t-1]\n",
    "\n",
    "    i[t] = phi_1*Epi[t] + phi_2*EY[t]\n",
    "    Y[t] = EY[t] - 1/sigma * (i[t]- Epi[t])\n",
    "    pi[t] = beta*Epi[t] + kappa*Y[t]"
   ]
  },
  {
   "cell_type": "code",
   "execution_count": 37,
   "metadata": {},
   "outputs": [
    {
     "data": {
      "image/png": "[encoded data removed]",
      "text/plain": [
       "<Figure size 432x288 with 4 Axes>"
      ]
     },
     "metadata": {
      "needs_background": "light"
     },
     "output_type": "display_data"
    }
   ],
   "source": [
    "# 2\n",
    "\n",
    "plt.subplot(2,2,1)\n",
    "plt.plot([Y[t]*100 for t in range(N)], linewidth = 2)\n",
    "plt.title('Y: Output')\n",
    "\n",
    "plt.subplot(2,2,2)\n",
    "plt.plot([pi[t]*100 for t in range(N)], linewidth = 2)\n",
    "plt.title('pi: Inflation')\n",
    "\n",
    "plt.subplot(2,2,3)\n",
    "plt.plot([EY[t]*100 for t in range(N)], linewidth = 2)\n",
    "plt.title('EY: Expected Output')\n",
    "\n",
    "plt.subplot(2,2,4)\n",
    "plt.plot([i[t]*100 for t in range(N)], linewidth = 2)\n",
    "plt.title('i: nominal interest rate')\n",
    "\n",
    "plt.tight_layout()"
   ]
  },
  {
   "cell_type": "code",
   "execution_count": 29,
   "metadata": {},
   "outputs": [
    {
     "data": {
      "text/plain": [
       "array([[ 1.  ,  0.  , -0.5 ],\n",
       "       [ 0.3 ,  1.  , -0.15],\n",
       "       [ 0.  ,  0.  ,  1.  ]])"
      ]
     },
     "execution_count": 29,
     "metadata": {},
     "output_type": "execute_result"
    }
   ],
   "source": [
    "# 3\n",
    "A = np.array([[1, 0, 1/sigma], \n",
    "                [-kappa, 1, 0],\n",
    "                [0, 0, 1]])\n",
    "A_inv = np.linalg.inv(A)\n",
    "A_inv"
   ]
  },
  {
   "cell_type": "code",
   "execution_count": 12,
   "metadata": {},
   "outputs": [
    {
     "data": {
      "text/plain": [
       "array([-7.01299463e-27,  5.89772773e-27,  1.10142577e-26])"
      ]
     },
     "execution_count": 12,
     "metadata": {},
     "output_type": "execute_result"
    }
   ],
   "source": [
    "# 4\n",
    "def func4(expec_vec):\n",
    "    B = np.zeros(len(expec_vec))\n",
    "    expY, expPi, expi = expec_vec\n",
    "    \n",
    "    B[0] = expY + 1/sigma * expPi\n",
    "    B[1] = beta * expPi\n",
    "    B[2] = phi_1 * expPi + phi_2 * expY\n",
    "    \n",
    "    z = np.dot(A_inv,B)\n",
    "    return z\n",
    "\n",
    "\n",
    "func4([Y[N-1], pi[N-1], i[N-1]])"
   ]
  },
  {
   "cell_type": "code",
   "execution_count": 41,
   "metadata": {},
   "outputs": [
    {
     "data": {
      "text/plain": [
       "array([0., 0., 0.])"
      ]
     },
     "execution_count": 41,
     "metadata": {},
     "output_type": "execute_result"
    }
   ],
   "source": [
    "def func7(expec_vec):\n",
    "    B = np.zeros(len(expec_vec))\n",
    "    expY, expPi, expi = expec_vec\n",
    "    \n",
    "    B[0] = expY + 1/sigma * expPi\n",
    "    B[1] = beta * expPi\n",
    "    B[2] = phi_1 * expPi + phi_2 * expY\n",
    "    \n",
    "    z = np.dot(A_inv,B)\n",
    "    diff = z - np.array(expec_vec)\n",
    "    \n",
    "    return diff\n",
    "\n",
    "func7([Y[N-1], pi[N-1], i[N-1]])\n",
    "\n"
   ]
  },
  {
   "cell_type": "code",
   "execution_count": 35,
   "metadata": {},
   "outputs": [
    {
     "data": {
      "text/plain": [
       "array([5.e-324, 0.e+000, 0.e+000])"
      ]
     },
     "execution_count": 35,
     "metadata": {},
     "output_type": "execute_result"
    }
   ],
   "source": [
    "# 8\n",
    "\n",
    "init = [0,0,1]\n",
    "\n",
    "[coefficients, inf, ier, msg] = fsolve(func7, init, full_output = True)\n",
    "\n",
    "coefficients\n"
   ]
  }
 ],
 "metadata": {
  "interpreter": {
   "hash": "aee8b7b246df8f9039afb4144a1f6fd8d2ca17a180786b69acc140d282b71a49"
  },
  "kernelspec": {
   "display_name": "Python 3.9.1 64-bit",
   "language": "python",
   "name": "python3"
  },
  "language_info": {
   "codemirror_mode": {
    "name": "ipython",
    "version": 3
   },
   "file_extension": ".py",
   "mimetype": "text/x-python",
   "name": "python",
   "nbconvert_exporter": "python",
   "pygments_lexer": "ipython3",
   "version": "3.8.5"
  },
  "orig_nbformat": 4
 },
 "nbformat": 4,
 "nbformat_minor": 2
}
