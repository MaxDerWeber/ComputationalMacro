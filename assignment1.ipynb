{
 "cells": [
  {
   "cell_type": "markdown",
   "metadata": {},
   "source": [
    "# Assignment 1\n",
    "#### December 2nd 2021\n",
    "In this Practical Assignment you will first simulate a New Keynesian model with no shocks and no state variables. Then you will calculate the minimum state variable (MSV) solution of this model, which - for this case - consists of constants and coincides with the model’s steady state."
   ]
  },
  {
   "cell_type": "code",
   "execution_count": null,
   "metadata": {},
   "outputs": [],
   "source": []
  }
 ],
 "metadata": {
  "language_info": {
   "name": "python"
  },
  "orig_nbformat": 4
 },
 "nbformat": 4,
 "nbformat_minor": 2
}
