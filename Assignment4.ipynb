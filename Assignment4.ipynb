{
 "cells": [
  {
   "cell_type": "markdown",
   "metadata": {},
   "source": [
    "# Assignment 4\n",
    "#### Linear Time Iteration - Not for handing in\n",
    "\n",
    "In this assignment you will use the linear time algorithm that was introduced in the tutorial to calculate the minimum state variable (MSV) solution of the New Keynesian model that we studied over the last weeks."
   ]
  },
  {
   "cell_type": "code",
   "execution_count": 10,
   "metadata": {},
   "outputs": [],
   "source": [
    "import numpy as np\n",
    "import matplotlib.pyplot as plt\n",
    "plot = plt.plot\n",
    "from scipy.optimize import fsolve\n",
    "\n",
    "# parameter specifications\n",
    "sigma= 2\n",
    "kappa=0.3\n",
    "beta=0.99\n",
    "phi1=1.5\n",
    "phi2=0.2"
   ]
  },
  {
   "cell_type": "markdown",
   "metadata": {},
   "source": [
    "1) Assuming that e_t is white noise, we have three variables in our system of equations that we apply the linear time iteration algorithm on.\n",
    "\n",
    "2) what happens if we set F = Fnew and apply the formula again?\n",
    "\n",
    "3) Interpret first colum of Q."
   ]
  },
  {
   "cell_type": "code",
   "execution_count": 3,
   "metadata": {},
   "outputs": [
    {
     "name": "stdout",
     "output_type": "stream",
     "text": [
      "[[0. 0. 0.]\n",
      " [0. 0. 0.]\n",
      " [0. 0. 0.]]\n",
      "[[0. 0. 0.]\n",
      " [0. 0. 0.]\n",
      " [0. 0. 0.]]\n",
      "[[ 1.    0.   -0.5 ]\n",
      " [ 0.3   1.   -0.15]\n",
      " [ 0.    0.    1.  ]]\n"
     ]
    }
   ],
   "source": [
    "A = np.array([[1, 0, 1/sigma], \n",
    "                [-kappa, 1, 0],\n",
    "                [0, 0, 1]])\n",
    "\n",
    "M = np.array([[1,1/sigma,0],\n",
    "             [0,beta,0],\n",
    "             [phi2,phi1,0]])\n",
    "\n",
    "D = np.zeros((3,3))\n",
    "\n",
    "# initial guess:\n",
    "F = np.ones((3,3))\n",
    "Fnew = np.zeros((3,3))\n",
    "\n",
    "Fnew = np.dot(np.linalg.inv(A-np.dot(M,F)),D)\n",
    "print(Fnew)\n",
    "\n",
    "F = Fnew\n",
    "Fnew = np.dot(np.linalg.inv(A-np.dot(M,F)),D)\n",
    "print(Fnew) # still zeros\n",
    "\n",
    "#formula from lecture 8 slide 12\n",
    "Q = np.linalg.inv(A - np.dot(M,Fnew))\n",
    "print(Q)\n",
    "\n",
    "# 3) first colum interpreted as result of output cap shock in MVS like C1 factor from last week\n",
    "\n",
    "# General solution of the form:\n",
    "# z_t = F z_{t-1} + Q u_t\n",
    "\n"
   ]
  },
  {
   "cell_type": "markdown",
   "metadata": {},
   "source": [
    "Next: autocorrelated shock: autocorrelation coefficient rho = 0.8\n",
    "4) extend matrices to allow for autocorrelated shocks\n",
    "\n",
    "5) Write while loop that repeats linear time iteration until Fnew and F are sufficiently close (e.g. 0.000001)\n",
    "\n",
    "6) when the loop converged, calculate Q\n"
   ]
  },
  {
   "cell_type": "code",
   "execution_count": 5,
   "metadata": {},
   "outputs": [
    {
     "name": "stdout",
     "output_type": "stream",
     "text": [
      "[[ 0.8         0.          0.          0.        ]\n",
      " [ 1.32145749  0.          0.          0.        ]\n",
      " [-1.07854251  0.          0.          0.        ]\n",
      " [-2.53279352  0.          0.          0.        ]]\n",
      "[[ 0.8         0.          0.          0.        ]\n",
      " [ 0.9099919   0.          0.          0.        ]\n",
      " [-0.5812081   0.          0.          0.        ]\n",
      " [-1.08281781  0.          0.          0.        ]]\n",
      "final Fnew: \n",
      " [[0.8        0.         0.         0.        ]\n",
      " [0.58459849 0.         0.         0.        ]\n",
      " [0.84316869 0.         0.         0.        ]\n",
      " [1.10533751 0.         0.         0.        ]]\n",
      "Q: \n",
      " [[ 1.00000000e+00 -0.00000000e+00 -0.00000000e+00  1.17146376e-16]\n",
      " [ 7.30747979e-01  1.00000000e+00 -0.00000000e+00 -5.00000000e-01]\n",
      " [ 1.05396140e+00  3.00000000e-01  1.00000000e+00 -1.50000000e-01]\n",
      " [ 1.38167273e+00 -1.53396488e-16  0.00000000e+00  1.00000000e+00]]\n"
     ]
    }
   ],
   "source": [
    "rho_e = 0.8 # persistence in output gap shock\n",
    "\n",
    "A=np.array([[1,0,0,0],\n",
    "            [-1,1,0,1/sigma],\n",
    "            [0,-kappa,1,0],\n",
    "            [0,0,0,1]\n",
    "            ])\n",
    "\n",
    "M = np.array([ [0,0,0,0],\n",
    "                [0,0,1/sigma,0],\n",
    "                [0,0,beta,0],\n",
    "                [0,phi2,phi1,0]\n",
    "            ])\n",
    "\n",
    "D = np.zeros((4,4))\n",
    "D[0,0] = rho_e\n",
    "\n",
    "# initial guess\n",
    "F=np.ones((4,4))\n",
    "Fnew = np.zeros((4,4))\n",
    "Fnew = np.dot(np.linalg.inv(A-np.dot(M,F)),D)\n",
    "print(Fnew)\n",
    "\n",
    "F = Fnew\n",
    "Fnew = np.dot(np.linalg.inv(A-np.dot(M,F)),D)\n",
    "print(Fnew)\n",
    "\n",
    "while np.max(np.abs(F-Fnew)) > 0.000001:\n",
    "    F=Fnew\n",
    "    Fnew = np.dot(np.linalg.inv(A-np.dot(M,F)),D)\n",
    "\n",
    "print('final Fnew: \\n', Fnew)\n",
    "Q = np.linalg.inv(A-np.dot(M,Fnew))\n",
    "print('Q: \\n' ,Q)\n"
   ]
  },
  {
   "cell_type": "code",
   "execution_count": 6,
   "metadata": {},
   "outputs": [
    {
     "name": "stdout",
     "output_type": "stream",
     "text": [
      "[[ 0.1         0.          0.          0.        ]\n",
      " [ 0.16518219  0.          0.          0.        ]\n",
      " [-0.13481781  0.          0.          0.        ]\n",
      " [-0.31659919  0.          0.          0.        ]]\n",
      "[[ 0.1         0.          0.          0.        ]\n",
      " [ 0.10171862  0.          0.          0.        ]\n",
      " [ 0.01716862  0.          0.          0.        ]\n",
      " [-0.01691903  0.          0.          0.        ]]\n",
      "final Fnew: \n",
      " [[0.1        0.         0.         0.        ]\n",
      " [0.09820057 0.         0.         0.        ]\n",
      " [0.03269718 0.         0.         0.        ]\n",
      " [0.00686857 0.         0.         0.        ]]\n",
      "Q: \n",
      " [[ 1.         -0.         -0.         -0.        ]\n",
      " [ 0.98200565  1.          0.         -0.5       ]\n",
      " [ 0.3269719   0.3         1.         -0.15      ]\n",
      " [ 0.06868589  0.          0.          1.        ]]\n"
     ]
    }
   ],
   "source": [
    "# change rho\n",
    "rho_e = 0.1 # persistence in output gap shock\n",
    "\n",
    "A=np.array([[1,0,0,0],\n",
    "            [-1,1,0,1/sigma],\n",
    "            [0,-kappa,1,0],\n",
    "            [0,0,0,1]\n",
    "            ])\n",
    "\n",
    "M = np.array([ [0,0,0,0],\n",
    "                [0,0,1/sigma,0],\n",
    "                [0,0,beta,0],\n",
    "                [0,phi2,phi1,0]\n",
    "            ])\n",
    "\n",
    "D = np.zeros((4,4))\n",
    "D[0,0] = rho_e\n",
    "\n",
    "# initial guess\n",
    "F=np.ones((4,4))\n",
    "Fnew = np.zeros((4,4))\n",
    "Fnew = np.dot(np.linalg.inv(A-np.dot(M,F)),D)\n",
    "print(Fnew)\n",
    "\n",
    "F = Fnew\n",
    "Fnew = np.dot(np.linalg.inv(A-np.dot(M,F)),D)\n",
    "print(Fnew)\n",
    "\n",
    "while np.max(np.abs(F-Fnew)) > 0.000001:\n",
    "    F=Fnew\n",
    "    Fnew = np.dot(np.linalg.inv(A-np.dot(M,F)),D)\n",
    "\n",
    "print('final Fnew: \\n', Fnew)\n",
    "Q = np.linalg.inv(A-np.dot(M,Fnew))\n",
    "print('Q: \\n' ,Q)\n"
   ]
  },
  {
   "cell_type": "code",
   "execution_count": 11,
   "metadata": {},
   "outputs": [
    {
     "data": {
      "image/png": "[encoded data removed]",
      "text/plain": [
       "<Figure size 432x288 with 4 Axes>"
      ]
     },
     "metadata": {
      "needs_background": "light"
     },
     "output_type": "display_data"
    }
   ],
   "source": [
    "# impulse responses of shock to output gap and inflation\n",
    "C1 = Q[ :,0]\n",
    "C5 = F[ :,0]\n",
    "\n",
    "N = 20 # simulate 20 periods\n",
    "epsilon_e = np.zeros(N)\n",
    "e = np.zeros(N)\n",
    "Y = np.zeros(N)\n",
    "Pi = np.zeros(N)\n",
    "ni = np.zeros(N) #nominal interest rate\n",
    "\n",
    "epsilon_e[0] = 0.01\n",
    "\n",
    "for i in range(N):\n",
    "    [e[i],Y[i],Pi[i],ni[i]] = [C1[hh]*epsilon_e[i] +C5[hh]*e[i-1] for hh in range(4)] #list comprehension\n",
    "\n",
    "fig = plt.figure()\n",
    "plt.subplot(2,2,1)\n",
    "plot([Y[i]*100 for i in range(1,N)], linewidth = 2)\n",
    "plt.title('Output')\n",
    "plt.ylabel('Y_t')\n",
    "plt.xlabel('t')\n",
    "\n",
    "plt.subplot(2,2,2)\n",
    "plot([Pi[i]*100 for i in range(1,N)], linewidth = 2)\n",
    "plt.title('Inflation')\n",
    "plt.ylabel('Pi_t')\n",
    "plt.xlabel('t')\n",
    "\n",
    "plt.subplot(2,2,3)\n",
    "plot([ni[i]*100 for i in range(1,N)], linewidth = 2)\n",
    "plt.title('Nominal Interest Rate')\n",
    "plt.ylabel('ni_t')\n",
    "plt.xlabel('t')\n",
    "\n",
    "plt.subplot(2,2,4)\n",
    "plot([e[i]*100 for i in range(1,N)], linewidth = 2)\n",
    "plt.title('Shock output')\n",
    "plt.ylabel('e_t')\n",
    "plt.xlabel('t')\n",
    "\n",
    "plt.tight_layout()\n"
   ]
  },
  {
   "cell_type": "code",
   "execution_count": 13,
   "metadata": {},
   "outputs": [
    {
     "name": "stdout",
     "output_type": "stream",
     "text": [
      "[[ 0.8         0.          0.          0.        ]\n",
      " [ 1.32145749  0.          0.          0.        ]\n",
      " [-1.07854251  0.          0.          0.        ]\n",
      " [-2.53279352  0.          0.          0.        ]]\n",
      "[[ 0.8         0.          0.          0.        ]\n",
      " [ 0.9099919   0.          0.          0.        ]\n",
      " [-0.5812081   0.          0.          0.        ]\n",
      " [-1.08281781  0.          0.          0.        ]]\n",
      "final Fnew: \n",
      " [[0.8        0.         0.         0.        ]\n",
      " [0.58459849 0.         0.         0.        ]\n",
      " [0.84316869 0.         0.         0.        ]\n",
      " [1.10533751 0.         0.         0.        ]]\n",
      "Q: \n",
      " [[ 1.00000000e+00 -0.00000000e+00 -0.00000000e+00  1.17146376e-16]\n",
      " [ 7.30747979e-01  1.00000000e+00 -0.00000000e+00 -5.00000000e-01]\n",
      " [ 1.05396140e+00  3.00000000e-01  1.00000000e+00 -1.50000000e-01]\n",
      " [ 1.38167273e+00 -1.53396488e-16  0.00000000e+00  1.00000000e+00]]\n"
     ]
    },
    {
     "data": {
      "image/png": "[encoded data removed]",
      "text/plain": [
       "<Figure size 432x288 with 4 Axes>"
      ]
     },
     "metadata": {
      "needs_background": "light"
     },
     "output_type": "display_data"
    }
   ],
   "source": [
    "# higher rho:\n",
    "rho_e = 0.8\n",
    "\n",
    "\n",
    "A=np.array([[1,0,0,0],\n",
    "            [-1,1,0,1/sigma],\n",
    "            [0,-kappa,1,0],\n",
    "            [0,0,0,1]\n",
    "            ])\n",
    "\n",
    "M = np.array([ [0,0,0,0],\n",
    "                [0,0,1/sigma,0],\n",
    "                [0,0,beta,0],\n",
    "                [0,phi2,phi1,0]\n",
    "            ])\n",
    "\n",
    "D = np.zeros((4,4))\n",
    "D[0,0] = rho_e\n",
    "\n",
    "# initial guess\n",
    "F=np.ones((4,4))\n",
    "Fnew = np.zeros((4,4))\n",
    "Fnew = np.dot(np.linalg.inv(A-np.dot(M,F)),D)\n",
    "print(Fnew)\n",
    "\n",
    "F = Fnew\n",
    "Fnew = np.dot(np.linalg.inv(A-np.dot(M,F)),D)\n",
    "print(Fnew)\n",
    "\n",
    "while np.max(np.abs(F-Fnew)) > 0.000001:\n",
    "    F=Fnew\n",
    "    Fnew = np.dot(np.linalg.inv(A-np.dot(M,F)),D)\n",
    "\n",
    "print('final Fnew: \\n', Fnew)\n",
    "Q = np.linalg.inv(A-np.dot(M,Fnew))\n",
    "print('Q: \\n' ,Q)\n",
    "\n",
    "\n",
    "epsilon_e[0] = 0.01\n",
    "C1 = Q[ :,0]\n",
    "C5 = F[ :,0]\n",
    "\n",
    "for i in range(N):\n",
    "    [e[i],Y[i],Pi[i],ni[i]] = [C1[hh]*epsilon_e[i] +C5[hh]*e[i-1] for hh in range(4)] #list comprehension\n",
    "\n",
    "fig = plt.figure()\n",
    "plt.subplot(2,2,1)\n",
    "plot([Y[i]*100 for i in range(1,N)], linewidth = 2)\n",
    "plt.title('Output')\n",
    "plt.ylabel('Y_t')\n",
    "plt.xlabel('t')\n",
    "\n",
    "plt.subplot(2,2,2)\n",
    "plot([Pi[i]*100 for i in range(1,N)], linewidth = 2)\n",
    "plt.title('Inflation')\n",
    "plt.ylabel('Pi_t')\n",
    "plt.xlabel('t')\n",
    "\n",
    "plt.subplot(2,2,3)\n",
    "plot([ni[i]*100 for i in range(1,N)], linewidth = 2)\n",
    "plt.title('Nominal Interest Rate')\n",
    "plt.ylabel('ni_t')\n",
    "plt.xlabel('t')\n",
    "\n",
    "plt.subplot(2,2,4)\n",
    "plot([e[i]*100 for i in range(1,N)], linewidth = 2)\n",
    "plt.title('Shock output')\n",
    "plt.ylabel('e_t')\n",
    "plt.xlabel('t')\n",
    "\n",
    "plt.tight_layout()\n"
   ]
  }
 ],
 "metadata": {
  "interpreter": {
   "hash": "854dd31d8a762741532201a73c102ff97df2aa6d3df808c117025003f269d370"
  },
  "kernelspec": {
   "display_name": "Python 3.8.5 64-bit ('base': conda)",
   "language": "python",
   "name": "python3"
  },
  "language_info": {
   "codemirror_mode": {
    "name": "ipython",
    "version": 3
   },
   "file_extension": ".py",
   "mimetype": "text/x-python",
   "name": "python",
   "nbconvert_exporter": "python",
   "pygments_lexer": "ipython3",
   "version": "3.8.5"
  },
  "orig_nbformat": 4
 },
 "nbformat": 4,
 "nbformat_minor": 2
}
