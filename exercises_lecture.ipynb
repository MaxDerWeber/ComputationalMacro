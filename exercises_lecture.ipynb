{
 "cells": [
  {
   "cell_type": "markdown",
   "metadata": {},
   "source": [
    "# Exercises during the lectures of computational macroeconomics by Junior Professor Lustenhower @Uni Heidelberg in the wintersemester 2021\n",
    "\n",
    "One comit per lecture exercise. The assignments are done in their own notebook and transfered to .py file for submission/grading."
   ]
  },
  {
   "cell_type": "markdown",
   "metadata": {},
   "source": [
    "## Lecture 1 - Lists/loops/if-clause/general stuff"
   ]
  },
  {
   "cell_type": "markdown",
   "metadata": {},
   "source": [
    "Consider the following list:\n",
    "    \n",
    "    x = [1,8,3,4,7,6,2,5]\n",
    "\n",
    "a) Create a new list y with the same length as x and fill it with zeros only.\n",
    "\n",
    "Next, identify all integers in x that are < 5 and assign a value 1 at the\n",
    "same index in the new list y whenever this condition is true and a value 0\n",
    "when it is not. \n",
    "    \n",
    "Finally, print y.\n",
    "\n",
    "\n",
    "b) Identify all integers in x that are < 5 and store them, in the same order\n",
    "as before, in a new list z. \n",
    "\n",
    "Print z.\n",
    "\n",
    "c) Identify all integers in x that are < 3 or > 5 and store them, in the same\n",
    "order as before, in a new list w.\n",
    "\n",
    "d) Take the list w from the previous exercise and sort its entries in ascending\n",
    "order - by the way, you are not allowed to use list.sort(). Print the\n",
    "resulting list. \n",
    "\n",
    "Hints: use the unpythonic for-loops with explicit indices.\n",
    "Then check whether the k-th (or whatever your indice is) entry in w is\n",
    "larger than the k+1-th entry. If this is the case, you need to switch them.\n",
    "This can be done with the following code line:\n",
    "    \n",
    "    w[k],w[k+1] = w[k+1],w[k]"
   ]
  },
  {
   "cell_type": "code",
   "execution_count": 8,
   "metadata": {},
   "outputs": [
    {
     "name": "stdout",
     "output_type": "stream",
     "text": [
      "[0, 0, 0, 0, 0, 0, 0, 0]\n"
     ]
    }
   ],
   "source": [
    "# a)\n",
    "\n",
    "x = [1,8,3,4,7,6,2,5]\n",
    "y = []\n",
    "for i in x:\n",
    "     y.append(0)\n",
    "\n",
    "assert(len(x) == len(y))\n",
    "print(y)"
   ]
  },
  {
   "cell_type": "code",
   "execution_count": 15,
   "metadata": {},
   "outputs": [
    {
     "name": "stdout",
     "output_type": "stream",
     "text": [
      "[1, 3, 4, 2]\n"
     ]
    }
   ],
   "source": [
    "# b)\n",
    "z = []\n",
    "for i in x:\n",
    "    if i < 5:\n",
    "        z.append(i)\n",
    "\n",
    "print(z)"
   ]
  },
  {
   "cell_type": "code",
   "execution_count": 16,
   "metadata": {},
   "outputs": [
    {
     "name": "stdout",
     "output_type": "stream",
     "text": [
      "[1, 8, 7, 6, 2]\n"
     ]
    }
   ],
   "source": [
    "# c)\n",
    "w = []\n",
    "for i in x:\n",
    "    if i < 3 or i > 5:\n",
    "        w.append(i)\n",
    "\n",
    "print(w)"
   ]
  },
  {
   "cell_type": "markdown",
   "metadata": {},
   "source": [
    "## Lecture 2: Numpy"
   ]
  },
  {
   "cell_type": "markdown",
   "metadata": {},
   "source": [
    "### Difference between np.array and lists\n",
    "\n",
    "- Create two lists MyList1 and MyList2, where the length of both lists\n",
    "equals 7. Then perform addition of both lists and print their sum.\n",
    "- Create MyArray1 and MyArray2. Each of them should contain 8 elements.\n",
    "Print the result of addition of values of both arrays. What is the difference\n",
    "when you add values of lists and arrays?\n",
    "- Make the following multiplication: MyList1 * 5 and print the result.\n",
    "- Implement the following steps and explain what happens: MyArray2 * 5"
   ]
  },
  {
   "cell_type": "code",
   "execution_count": 15,
   "metadata": {},
   "outputs": [
    {
     "name": "stdout",
     "output_type": "stream",
     "text": [
      "list addition:  [4, 6, 8, 10, 12, 14, 6]\n",
      "array addition:  [0.56596378 1.38682127 1.6534851  0.37488276 0.94803524 0.43772179\n",
      " 1.03319426 1.12705078]\n",
      "list multiplication:  [0, 1, 2, 3, 4, 5, 6, 0, 1, 2, 3, 4, 5, 6, 0, 1, 2, 3, 4, 5, 6, 0, 1, 2, 3, 4, 5, 6, 0, 1, 2, 3, 4, 5, 6]\n",
      "array multiplication [0.52940893 2.29853541 3.99205086 0.36090157 3.75238696 0.62741359\n",
      " 2.91139796 0.76677422]\n"
     ]
    }
   ],
   "source": [
    "import numpy as np\n",
    "\n",
    "mylist1 = [0,1,2,3,4,5,6]\n",
    "mylist2 = [4,5,6,7,8,9,0]\n",
    "\n",
    "# list addition\n",
    "result_list = [0] * len(mylist1)\n",
    "\n",
    "for i in range(len(mylist1)):\n",
    "    result_list[i] = mylist1[i] + mylist2[i]\n",
    "\n",
    "print('list addition: ', result_list)\n",
    "\n",
    "# array addition\n",
    "myarray1 = np.random.random(8)\n",
    "myarray2 =  np.random.random(8)\n",
    "\n",
    "result_array = myarray1 + myarray2\n",
    "print('array addition: ', result_array)\n",
    "\n",
    "# list multiplication\n",
    "print('list multiplication: ', mylist1 * 5)\n",
    "# the list-elements are repeated 5 times\n",
    "\n",
    "# array multiplication:\n",
    "print('array multiplication', myarray2 * 5 )\n",
    "# each elemt is multiplied by 5"
   ]
  },
  {
   "cell_type": "code",
   "execution_count": 18,
   "metadata": {},
   "outputs": [
    {
     "name": "stdout",
     "output_type": "stream",
     "text": [
      "[3, 7, 6]\n",
      "[3 7 6]\n",
      "[3 4 6]\n"
     ]
    }
   ],
   "source": [
    "A = [3, 4, 6]\n",
    "B = A\n",
    "B [1] = 7\n",
    "print (A)\n",
    "\n",
    "A = np.array([3,4,6])\n",
    "B = A\n",
    "B [1] = 7\n",
    "print (A)\n",
    "\n",
    "A = np.array([3,4,6])\n",
    "B = np.copy(A)\n",
    "B [1] = 7\n",
    "print (A)"
   ]
  },
  {
   "cell_type": "code",
   "execution_count": 33,
   "metadata": {},
   "outputs": [
    {
     "name": "stdout",
     "output_type": "stream",
     "text": [
      "new_random:  [0.05837352 0.07036747 0.90102957 0.57939909 0.77290167 0.46239294\n",
      " 0.14667182 0.9630377  0.00232341]\n",
      "[0.46239294130819486, 0.14667182036559512, 0.9630376961695463, 0.0023234147644805025]\n",
      "new_list: [0.9010295713084708, 0.5793990913108794, 0.7729016715433982, 0.9630376961695463]\n",
      "new_list2:  [0.9010295713084708, 0.5793990913108794, 0.7729016715433982, 0.9630376961695463]\n"
     ]
    }
   ],
   "source": [
    "# list comprehension\n",
    "new_random = np.random.random (9)\n",
    "print('new_random: ', new_random)\n",
    "\n",
    "new_random_1 = [new_random[i] for i in range (5, 9)]\n",
    "print(new_random_1) #np.ndarray\n",
    "new_list = [] #create empty list\n",
    "\n",
    "for i in range (9):\n",
    "    if new_random[i]>0.5:\n",
    "        new_list +=[new_random[i]] #add values of new_random to our empty list\n",
    "print('new_list:' ,new_list)\n",
    "\n",
    "# as list comprehension\n",
    "new_list2 = [new_random[i] for i in range (9) if new_random[i]>0.5]\n",
    "print('new_list2: ', new_list2)"
   ]
  },
  {
   "cell_type": "code",
   "execution_count": 47,
   "metadata": {},
   "outputs": [
    {
     "name": "stdout",
     "output_type": "stream",
     "text": [
      "[ 1  3  5  7  9 10 15]\n",
      "[[ 1]\n",
      " [ 3]\n",
      " [ 5]\n",
      " [ 7]\n",
      " [ 9]\n",
      " [10]\n",
      " [15]]\n"
     ]
    },
    {
     "data": {
      "text/plain": [
       "array([[0, 1],\n",
       "       [2, 3],\n",
       "       [4, 5]])"
      ]
     },
     "execution_count": 47,
     "metadata": {},
     "output_type": "execute_result"
    }
   ],
   "source": [
    "ListToSlice = np.array([1, 3, 5, 7, 9, 10, 15])\n",
    "print(ListToSlice)\n",
    "print(ListToSlice.reshape(-1,1))\n",
    "np.arange(6).reshape((3, 2))"
   ]
  },
  {
   "cell_type": "code",
   "execution_count": 49,
   "metadata": {},
   "outputs": [
    {
     "name": "stdout",
     "output_type": "stream",
     "text": [
      "mean:  27.5\n",
      "dot product:  [[31 39]\n",
      " [61 78]]\n"
     ]
    }
   ],
   "source": [
    "array = np.array([[11, 22], [33, 44]])\n",
    "print ('mean: ', np.mean(array))\n",
    "\n",
    "a = np.array([[2,3],[1,8]])\n",
    "b = np.array([[5,6],[7,9]])\n",
    "print('dot product: ', np.dot(a,b))"
   ]
  },
  {
   "cell_type": "code",
   "execution_count": null,
   "metadata": {},
   "outputs": [],
   "source": []
  }
 ],
 "metadata": {
  "interpreter": {
   "hash": "854dd31d8a762741532201a73c102ff97df2aa6d3df808c117025003f269d370"
  },
  "kernelspec": {
   "display_name": "Python 3.8.5 64-bit ('base': conda)",
   "language": "python",
   "name": "python3"
  },
  "language_info": {
   "codemirror_mode": {
    "name": "ipython",
    "version": 3
   },
   "file_extension": ".py",
   "mimetype": "text/x-python",
   "name": "python",
   "nbconvert_exporter": "python",
   "pygments_lexer": "ipython3",
   "version": "3.8.5"
  },
  "orig_nbformat": 4
 },
 "nbformat": 4,
 "nbformat_minor": 2
}
