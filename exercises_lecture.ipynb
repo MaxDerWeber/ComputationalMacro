{
 "cells": [
  {
   "cell_type": "markdown",
   "metadata": {},
   "source": [
    "# Exercises during the lectures of computational macroeconomics by Junior Professor Lustenhower @Uni Heidelberg in the wintersemester 2021\n",
    "\n",
    "One comit per lecture exercise. The assignments are done in their own notebook and transfered to .py file for submission/grading."
   ]
  },
  {
   "cell_type": "markdown",
   "metadata": {},
   "source": [
    "## Lecture 1 - Lists/loops/if-clause/general stuff"
   ]
  },
  {
   "cell_type": "markdown",
   "metadata": {},
   "source": [
    "Consider the following list:\n",
    "    \n",
    "    x = [1,8,3,4,7,6,2,5]\n",
    "\n",
    "a) Create a new list y with the same length as x and fill it with zeros only.\n",
    "\n",
    "Next, identify all integers in x that are < 5 and assign a value 1 at the\n",
    "same index in the new list y whenever this condition is true and a value 0\n",
    "when it is not. \n",
    "    \n",
    "Finally, print y.\n",
    "\n",
    "\n",
    "b) Identify all integers in x that are < 5 and store them, in the same order\n",
    "as before, in a new list z. \n",
    "\n",
    "Print z.\n",
    "\n",
    "c) Identify all integers in x that are < 3 or > 5 and store them, in the same\n",
    "order as before, in a new list w.\n",
    "\n",
    "d) Take the list w from the previous exercise and sort its entries in ascending\n",
    "order - by the way, you are not allowed to use list.sort(). Print the\n",
    "resulting list. \n",
    "\n",
    "Hints: use the unpythonic for-loops with explicit indices.\n",
    "Then check whether the k-th (or whatever your indice is) entry in w is\n",
    "larger than the k+1-th entry. If this is the case, you need to switch them.\n",
    "This can be done with the following code line:\n",
    "    \n",
    "    w[k],w[k+1] = w[k+1],w[k]"
   ]
  },
  {
   "cell_type": "code",
   "execution_count": 27,
   "metadata": {},
   "outputs": [
    {
     "name": "stdout",
     "output_type": "stream",
     "text": [
      "[0, 0, 0, 0, 0, 0, 0, 0]\n"
     ]
    },
    {
     "data": {
      "text/plain": [
       "[1, 0, 1, 1, 0, 0, 1, 0]"
      ]
     },
     "execution_count": 27,
     "metadata": {},
     "output_type": "execute_result"
    }
   ],
   "source": [
    "# a)\n",
    "\n",
    "x = [1,8,3,4,7,6,2,5]\n",
    "\n",
    "y = [0]*len(x)\n",
    "\n",
    "assert(len(x) == len(y))\n",
    "print(y)\n",
    "\n",
    "j = 0\n",
    "for i in x:\n",
    "     if i < 5:\n",
    "          y[j] = 1\n",
    "     j+=1\n",
    "y"
   ]
  },
  {
   "cell_type": "code",
   "execution_count": 26,
   "metadata": {},
   "outputs": [
    {
     "data": {
      "text/plain": [
       "[1, 0, 1, 1, 0, 0, 1, 0]"
      ]
     },
     "execution_count": 26,
     "metadata": {},
     "output_type": "execute_result"
    }
   ],
   "source": [
    "i=0\n",
    "for b in x:   \n",
    "    if b < 5:\n",
    "        y[i]=1\n",
    "    i+=1\n",
    "y"
   ]
  },
  {
   "cell_type": "code",
   "execution_count": 15,
   "metadata": {},
   "outputs": [
    {
     "name": "stdout",
     "output_type": "stream",
     "text": [
      "[1, 3, 4, 2]\n"
     ]
    }
   ],
   "source": [
    "# b)\n",
    "z = []\n",
    "for i in x:\n",
    "    if i < 5:\n",
    "        z.append(i)\n",
    "\n",
    "print(z)"
   ]
  },
  {
   "cell_type": "code",
   "execution_count": 61,
   "metadata": {},
   "outputs": [
    {
     "name": "stdout",
     "output_type": "stream",
     "text": [
      "[1, 8, 7, 6, 2]\n"
     ]
    }
   ],
   "source": [
    "# c)\n",
    "w = []\n",
    "for i in x:\n",
    "    if i < 3 or i > 5:\n",
    "        w.append(i)\n",
    "\n",
    "print(w)"
   ]
  },
  {
   "cell_type": "code",
   "execution_count": 62,
   "metadata": {},
   "outputs": [
    {
     "name": "stdout",
     "output_type": "stream",
     "text": [
      "[1, 8, 7, 6, 2]\n",
      "[1, 7, 8, 6, 2]\n",
      "[1, 7, 6, 8, 2]\n",
      "[1, 7, 6, 2, 8]\n",
      "[1, 6, 7, 2, 8]\n",
      "[1, 6, 2, 7, 8]\n",
      "[1, 2, 6, 7, 8]\n",
      "final:  [1, 2, 6, 7, 8]\n"
     ]
    }
   ],
   "source": [
    "# d)\n",
    "print(w)\n",
    "for j in range(len(w)-1):\n",
    "    for i in range(len(w)-1):\n",
    "        if w[i] > w[i+1]:\n",
    "            w[i], w[i+1] = w[i+1], w[i]\n",
    "            print(w)\n",
    "    \n",
    "print('final: ', w)\n"
   ]
  }
 ],
 "metadata": {
  "interpreter": {
   "hash": "854dd31d8a762741532201a73c102ff97df2aa6d3df808c117025003f269d370"
  },
  "kernelspec": {
   "display_name": "Python 3.8.5 64-bit ('base': conda)",
   "language": "python",
   "name": "python3"
  },
  "language_info": {
   "codemirror_mode": {
    "name": "ipython",
    "version": 3
   },
   "file_extension": ".py",
   "mimetype": "text/x-python",
   "name": "python",
   "nbconvert_exporter": "python",
   "pygments_lexer": "ipython3",
   "version": "3.8.5"
  },
  "orig_nbformat": 4
 },
 "nbformat": 4,
 "nbformat_minor": 2
}
