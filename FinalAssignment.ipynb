{
 "cells": [
  {
   "cell_type": "markdown",
   "metadata": {},
   "source": [
    "# FINAL ASSIGNMENT (for handing in)\n",
    "\n",
    "Model modification and extension with government spending following an exogenous AR(1) process and innvation shock."
   ]
  },
  {
   "cell_type": "code",
   "execution_count": 31,
   "metadata": {},
   "outputs": [],
   "source": [
    "import numpy as np\n",
    "from scipy.optimize import fsolve\n",
    "\n",
    "sigma = 1\n",
    "eta = 2\n",
    "kappa = 0.3\n",
    "beta = 0.995\n",
    "phi_pi = 1.5\n",
    "phi_y = 0.1\n",
    "rho_g = 0.7\n",
    "gbar = 0.25 # parameter of the AR(1) process"
   ]
  },
  {
   "cell_type": "markdown",
   "metadata": {},
   "source": [
    "### Task 1\n",
    "Write the model in the form A*z_t = B with z_t = [y_t, pi_t, i_t]'\n",
    "\n",
    "As in the assignments I rewrite the model so that every variable of time t is on the left hand side.\n",
    "Then I define A and B so that A*z_t = B.\n",
    "\n",
    "## !! ad info about how g_t is handled !!"
   ]
  },
  {
   "cell_type": "code",
   "execution_count": 5,
   "metadata": {},
   "outputs": [
    {
     "data": {
      "text/plain": [
       "array([[ 1.  ,  0.  ,  0.75],\n",
       "       [-1.  ,  1.  ,  0.  ],\n",
       "       [-0.1 , -1.5 ,  1.  ]])"
      ]
     },
     "execution_count": 5,
     "metadata": {},
     "output_type": "execute_result"
    }
   ],
   "source": [
    "A = np.array([[1,0,(1-gbar)*(1/sigma)],\n",
    "            [-kappa*(sigma/(1-gbar)+eta),1,0],\n",
    "            [-phi_y, -phi_pi,1]])\n",
    "A_inv = np.linalg.inv(A)\n",
    "A"
   ]
  },
  {
   "cell_type": "markdown",
   "metadata": {},
   "source": [
    "array([[ 1.  ,  0.  ,  0.75],\n",
    "       [ -1.  ,  1.  ,  0.  ],\n",
    "       [-0.1 , -1.5 ,  1.  ]])"
   ]
  },
  {
   "cell_type": "markdown",
   "metadata": {},
   "source": [
    "### Task 2\n",
    "\n",
    "Write a function, similar to the one in Assignment 2, that has as input a vector that contains ’guessed values’ of c_g and c_eta_g and gives expectations for next periods Y, pi and g."
   ]
  },
  {
   "cell_type": "code",
   "execution_count": 30,
   "metadata": {},
   "outputs": [
    {
     "data": {
      "text/plain": [
       "array([-0.62652557,  0.44312443,  0.66203409, -0.65888636,  0.32071364,\n",
       "        0.68518182])"
      ]
     },
     "execution_count": 30,
     "metadata": {},
     "output_type": "execute_result"
    }
   ],
   "source": [
    "# input: 'guessed values' of C_g and C_eta_g_t\n",
    "\n",
    "def model2(coef):\n",
    "    c_outcome = np.zeros(len(coef))\n",
    "    B = np.zeros(3)\n",
    "    c_g = coef[0:3]\n",
    "    c_eta_gt = coef[3:6]\n",
    "    # Calculate expectations of output, inflation and government spending via equation (6) \n",
    "    # form expectations via (6): exp_z_t = C_g * g_t + C_eta_g * 0 since exp_eta = 0 (white noise). \n",
    "    # hence we need g_t which we can take from (4). I move up the 'next, ...' -step: Set values for g_t-1 and eta_g_t:\n",
    "    exp_eta_gt = 0\n",
    "    eta_gt = 0.1\n",
    "    g_previous = 1\n",
    "\n",
    "    # Part 1 without shock\n",
    "    g_t = rho_g * g_previous\n",
    "    exp_z_t = np.dot(c_g,g_t) + np.dot(c_eta_gt,exp_eta_gt)\n",
    "\n",
    "    expY = exp_z_t[0]\n",
    "    expPi = exp_z_t[1]\n",
    "    expi = exp_z_t[2]\n",
    "    expG = rho_g * g_t\n",
    "\n",
    "    # These expectation are plugged into the B vector\n",
    "    B[0] = expY + (1-gbar)*1/sigma*expPi + gbar*(g_t+expG)\n",
    "    B[1] = beta*expPi\n",
    "    B[2] = 0\n",
    "    # Calculate z_t = A_inv*B once with and without shock in B (plug (4) for g_t) to get C_g and C_eta_g_t\n",
    "    c_outcome[0:3] = np.dot(A_inv,B)\n",
    "\n",
    "    # Part 2: with shock\n",
    "    g_t = rho_g * g_previous + eta_gt\n",
    "    exp_z_t = np.dot(c_g,g_t) + np.dot(c_eta_gt,exp_eta_gt)\n",
    "\n",
    "    expY = exp_z_t[0]\n",
    "    expPi = exp_z_t[1]\n",
    "    expi = exp_z_t[2]\n",
    "    expG = rho_g * g_t\n",
    "\n",
    "    # These expectation are plugged into the B vector\n",
    "    B[0] = expY + (1-gbar)*1/sigma*expPi + gbar*(g_t+expG)\n",
    "    B[1] = beta*expPi\n",
    "    B[2] = 0\n",
    "    # Calculate z_t = A_inv*B with shock in g_t\n",
    "    c_outcome[3:6] = np.dot(A_inv,B) - c_g\n",
    "\n",
    "    # Caculate and return difference between C_g, C_eta_g_t and the input values\n",
    "    difference = c_outcome - np.array(coef)\n",
    "    return difference\n",
    "\n",
    "init = [1.1, 0.1, 0.2, 0.1, 0.2, 0.1]\n",
    "model2(init)"
   ]
  },
  {
   "cell_type": "markdown",
   "metadata": {},
   "source": [
    "### Task 3: Run fsolve to get the rational expectation solution for c_g and c_eta_gt"
   ]
  },
  {
   "cell_type": "code",
   "execution_count": 62,
   "metadata": {},
   "outputs": [
    {
     "name": "stdout",
     "output_type": "stream",
     "text": [
      "[0.12649155 0.41677611 0.63781333 0.01807022 0.05953944 0.09111619] \n",
      " 1 \n",
      " The solution converged.\n",
      "[0.12649155 0.41677611 0.63781333] \n",
      " [0.01807022 0.05953944 0.09111619]\n"
     ]
    }
   ],
   "source": [
    "init = [1.1, 0.1, 0.2, 0.1, 0.2, 0.1]\n",
    "\n",
    "[coefficients, inf, ier, msg] = fsolve(model2, init, full_output = True)\n",
    "print(coefficients, '\\n', ier,'\\n', msg)\n",
    "C_g = coefficients[0:3]\n",
    "C_eta_gt = coefficients[3:6]\n",
    "\n",
    "print(C_g, '\\n', C_eta_gt) \n",
    "# C_g = [0.12649155 0.41677611 0.63781333] \n",
    "# C_eta_gt = [0.01807022 0.05953944 0.09111619]"
   ]
  },
  {
   "cell_type": "markdown",
   "metadata": {},
   "source": [
    "### Task 4: Calculate the response to a shock on g_t of size 0.01\n",
    "\n",
    "Make a loop for 40 periods and set the shock to 0.01 in the first period, 0 in every other period.\n",
    "In each period, calculate the variables in z_t using the vectors C_g and C_eta_gt."
   ]
  },
  {
   "cell_type": "code",
   "execution_count": 72,
   "metadata": {},
   "outputs": [
    {
     "name": "stdout",
     "output_type": "stream",
     "text": [
      "[0.0001807  0.00059539 0.00091116]\n",
      "[0. 0. 0.]\n",
      "[0. 0. 0.]\n",
      "[0. 0. 0.]\n",
      "[0. 0. 0.]\n",
      "[0. 0. 0.]\n",
      "[0. 0. 0.]\n",
      "[0. 0. 0.]\n",
      "[0. 0. 0.]\n",
      "[0. 0. 0.]\n",
      "[0. 0. 0.]\n",
      "[0. 0. 0.]\n",
      "[0. 0. 0.]\n",
      "[0. 0. 0.]\n",
      "[0. 0. 0.]\n",
      "[0. 0. 0.]\n",
      "[0. 0. 0.]\n",
      "[0. 0. 0.]\n",
      "[0. 0. 0.]\n",
      "[0. 0. 0.]\n",
      "[0. 0. 0.]\n",
      "[0. 0. 0.]\n",
      "[0. 0. 0.]\n",
      "[0. 0. 0.]\n",
      "[0. 0. 0.]\n",
      "[0. 0. 0.]\n",
      "[0. 0. 0.]\n",
      "[0. 0. 0.]\n",
      "[0. 0. 0.]\n",
      "[0. 0. 0.]\n",
      "[0. 0. 0.]\n",
      "[0. 0. 0.]\n",
      "[0. 0. 0.]\n",
      "[0. 0. 0.]\n",
      "[0. 0. 0.]\n",
      "[0. 0. 0.]\n",
      "[0. 0. 0.]\n",
      "[0. 0. 0.]\n",
      "[0. 0. 0.]\n",
      "[0. 0. 0.]\n"
     ]
    }
   ],
   "source": [
    "N = 40\n",
    "\n",
    "eta_g = np.zeros(N)\n",
    "eta_g[0] = 0.01\n",
    "Y = np.zeros(N)\n",
    "Pi = np.zeros(N)\n",
    "i = np.zeros(N)\n",
    "g = np.zeros(N)\n",
    "\n",
    "for t in range(N):\n",
    "    t=t+1 # to avoid t-1 = -1 in the first period\n",
    "    z = C_g*g[t-1] + C_eta_gt*eta_g[t]\n",
    "    print(z)\n",
    "\n"
   ]
  },
  {
   "cell_type": "code",
   "execution_count": 48,
   "metadata": {},
   "outputs": [
    {
     "data": {
      "text/plain": [
       "array([0., 0., 0.])"
      ]
     },
     "execution_count": 48,
     "metadata": {},
     "output_type": "execute_result"
    }
   ],
   "source": [
    "np.dot(C_g,g[1]) + np.dot(C_eta_gt,eta_g[2])"
   ]
  }
 ],
 "metadata": {
  "interpreter": {
   "hash": "854dd31d8a762741532201a73c102ff97df2aa6d3df808c117025003f269d370"
  },
  "kernelspec": {
   "display_name": "Python 3.8.5 64-bit ('base': conda)",
   "language": "python",
   "name": "python3"
  },
  "language_info": {
   "codemirror_mode": {
    "name": "ipython",
    "version": 3
   },
   "file_extension": ".py",
   "mimetype": "text/x-python",
   "name": "python",
   "nbconvert_exporter": "python",
   "pygments_lexer": "ipython3",
   "version": "3.8.5"
  },
  "orig_nbformat": 4
 },
 "nbformat": 4,
 "nbformat_minor": 2
}
