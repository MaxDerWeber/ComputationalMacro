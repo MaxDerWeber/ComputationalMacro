{
 "cells": [
  {
   "cell_type": "markdown",
   "metadata": {},
   "source": [
    "# FINAL ASSIGNMENT (for handing in)\n",
    "\n",
    "Model modification and extension with government spending following an exogenous AR(1) process and innvation shock."
   ]
  },
  {
   "cell_type": "code",
   "execution_count": 97,
   "metadata": {},
   "outputs": [],
   "source": [
    "# import libraries and functions needed\n",
    "import numpy as np\n",
    "from scipy.optimize import fsolve\n",
    "import matplotlib.pyplot as plt\n",
    "plot = plt.plot\n",
    "\n",
    "# declare static variables\n",
    "sigma = 1\n",
    "eta = 2\n",
    "kappa = 0.3\n",
    "beta = 0.995\n",
    "phi_pi = 1.5\n",
    "phi_y = 0.1\n",
    "rho_g = 0.7\n",
    "gbar = 0.25 # parameter of the AR(1) process"
   ]
  },
  {
   "cell_type": "markdown",
   "metadata": {},
   "source": [
    "### Task 1\n",
    "Write the model in the form A*z_t = B with z_t = [y_t, pi_t, i_t]'\n",
    "\n",
    "As in the assignments I rewrite the model so that every variable of time t is on the left hand side. <br>\n",
    "Then, I define A and B so that A*z_t = B."
   ]
  },
  {
   "cell_type": "code",
   "execution_count": 5,
   "metadata": {},
   "outputs": [
    {
     "data": {
      "text/plain": [
       "array([[ 1.  ,  0.  ,  0.75],\n",
       "       [-1.  ,  1.  ,  0.  ],\n",
       "       [-0.1 , -1.5 ,  1.  ]])"
      ]
     },
     "execution_count": 5,
     "metadata": {},
     "output_type": "execute_result"
    }
   ],
   "source": [
    "A = np.array([[1,0,(1-gbar)*(1/sigma)],\n",
    "            [-kappa*(sigma/(1-gbar)+eta),1,0],\n",
    "            [-phi_y, -phi_pi,1]])\n",
    "A_inv = np.linalg.inv(A)\n",
    "A"
   ]
  },
  {
   "cell_type": "markdown",
   "metadata": {},
   "source": [
    "A: <br>\n",
    "[[ 1.  ,  0.  ,  0.75],<br>\n",
    "[ -1.  ,  1.  ,  0.  ], <br>\n",
    "[-0.1 , -1.5 ,  1.  ]]"
   ]
  },
  {
   "cell_type": "markdown",
   "metadata": {},
   "source": [
    "### Task 2\n",
    "\n",
    "Write a function, similar to the one in Assignment 2, that has as input a vector that contains ’guessed values’ of c_g and c_eta_g and gives expectations for next periods Y, pi and g."
   ]
  },
  {
   "cell_type": "code",
   "execution_count": 30,
   "metadata": {},
   "outputs": [
    {
     "data": {
      "text/plain": [
       "array([-0.62652557,  0.44312443,  0.66203409, -0.65888636,  0.32071364,\n",
       "        0.68518182])"
      ]
     },
     "execution_count": 30,
     "metadata": {},
     "output_type": "execute_result"
    }
   ],
   "source": [
    "# input: 'guessed values' of C_g and C_eta_g_t\n",
    "\n",
    "def model2(coef):\n",
    "    c_outcome = np.zeros(len(coef))\n",
    "    B = np.zeros(3)\n",
    "    c_g = coef[0:3]\n",
    "    c_eta_gt = coef[3:6]\n",
    "    # Calculate expectations of output, inflation and government spending via equation (6) \n",
    "    # form expectations via (6): exp_z_t = C_g * g_t + C_eta_g * 0 since exp_eta = 0 (white noise). \n",
    "    # hence we need g_t which we can take from (4). I move up the 'next, ...' -step: Set values for g_t-1 and eta_g_t:\n",
    "    exp_eta_gt = 0\n",
    "    eta_gt = 0.1\n",
    "    g_previous = 1\n",
    "\n",
    "    # Part 1 without shock\n",
    "    g_t = rho_g * g_previous\n",
    "    exp_z_t = np.dot(c_g,g_t) + np.dot(c_eta_gt,exp_eta_gt)\n",
    "\n",
    "    expY = exp_z_t[0]\n",
    "    expPi = exp_z_t[1]\n",
    "    expi = exp_z_t[2]\n",
    "    expG = rho_g * g_t\n",
    "\n",
    "    # These expectation are plugged into the B vector\n",
    "    B[0] = expY + (1-gbar)*1/sigma*expPi + gbar*(g_t+expG)\n",
    "    B[1] = beta*expPi\n",
    "    B[2] = 0\n",
    "    # Calculate z_t = A_inv*B once with and without shock in B (plug (4) for g_t) to get C_g and C_eta_g_t\n",
    "    c_outcome[0:3] = np.dot(A_inv,B)\n",
    "\n",
    "    # Part 2: with shock\n",
    "    g_t = rho_g * g_previous + eta_gt\n",
    "    exp_z_t = np.dot(c_g,g_t) + np.dot(c_eta_gt,exp_eta_gt)\n",
    "\n",
    "    expY = exp_z_t[0]\n",
    "    expPi = exp_z_t[1]\n",
    "    expi = exp_z_t[2]\n",
    "    expG = rho_g * g_t\n",
    "\n",
    "    # These expectation are plugged into the B vector\n",
    "    B[0] = expY + (1-gbar)*1/sigma*expPi + gbar*(g_t+expG)\n",
    "    B[1] = beta*expPi\n",
    "    B[2] = 0\n",
    "    # Calculate z_t = A_inv*B with shock in g_t\n",
    "    c_outcome[3:6] = np.dot(A_inv,B) - c_g\n",
    "\n",
    "    # Caculate and return difference between C_g, C_eta_g_t and the input values\n",
    "    difference = c_outcome - np.array(coef)\n",
    "    return difference\n",
    "\n",
    "init = [1.1, 0.1, 0.2, 0.1, 0.2, 0.1]\n",
    "model2(init)"
   ]
  },
  {
   "cell_type": "markdown",
   "metadata": {},
   "source": [
    "### Task 3: Run fsolve to get the rational expectation solution for c_g and c_eta_gt"
   ]
  },
  {
   "cell_type": "code",
   "execution_count": 111,
   "metadata": {},
   "outputs": [
    {
     "name": "stdout",
     "output_type": "stream",
     "text": [
      "[0.12649155 0.41677611 0.63781333 0.01807022 0.05953944 0.09111619] \n",
      " 1 \n",
      " The solution converged.\n",
      "[0.12649155 0.41677611 0.63781333] \n",
      " [0.01807022 0.05953944 0.09111619]\n"
     ]
    }
   ],
   "source": [
    "init = [1.1, 0.1, 0.2, 0.1, 0.2, 0.1]\n",
    "\n",
    "[coefficients, inf, ier, msg] = fsolve(model2, init, full_output = True)\n",
    "print(coefficients, '\\n', ier,'\\n', msg)\n",
    "# -> the solution converged\n",
    "\n",
    "# Since the output is in the form of a vector we need to subset into the two vector necessary to write the model in the form of (6).\n",
    "C_g = coefficients[0:3]\n",
    "C_eta_gt = coefficients[3:6]\n",
    "\n",
    "print(C_g, '\\n', C_eta_gt) \n",
    "# C_g = [0.12649155 0.41677611 0.63781333] \n",
    "# C_eta_gt = [0.01807022 0.05953944 0.09111619]"
   ]
  },
  {
   "cell_type": "markdown",
   "metadata": {},
   "source": [
    "### Task 4: Calculate the response to a shock on g_t of size 0.01\n",
    "\n",
    "Make a loop for 40 periods and set the shock to 0.01 in the first period, 0 in every other period.\n",
    "In each period, calculate the variables in z_t using the vectors C_g and C_eta_gt."
   ]
  },
  {
   "cell_type": "code",
   "execution_count": 112,
   "metadata": {},
   "outputs": [],
   "source": [
    "# Initialize the variables and vectors containing the values for every period\n",
    "N = 40\n",
    "\n",
    "eta_g = np.zeros(N)\n",
    "eta_g[0] = 0.01\n",
    "Y = np.zeros(N)\n",
    "Pi = np.zeros(N)\n",
    "ni = np.zeros(N)\n",
    "g = np.zeros(N)\n",
    "\n",
    "for t in range(N):\n",
    "    # calculate z_t using equation (6)\n",
    "    z = C_g*g[t-1] + C_eta_gt*eta_g[t]\n",
    "    # unpack the vector into the variables' vectors\n",
    "    Y[t] = z[0]\n",
    "    Pi[t] = z[1]\n",
    "    ni[t] = z[2]\n",
    "    g_previous = g[t-1]\n",
    "    g[t] = rho_g * g_previous + eta_g[t] # update g for the next period\n",
    "\n",
    "#print(Y,'\\n',Pi,'\\n',ni,'\\n',g)"
   ]
  },
  {
   "cell_type": "markdown",
   "metadata": {},
   "source": [
    "### Task 5\n",
    "Make a figures with four subfigures where you plot the impulse responses that you have just calculated. The subfigures should contain the 4 variables in zt. Make sure that:\n",
    "- All lines are dashed;\n",
    "- Each line in a figure has a different color;\n",
    "- The subfigures fit well in the figure."
   ]
  },
  {
   "cell_type": "code",
   "execution_count": 96,
   "metadata": {},
   "outputs": [
    {
     "data": {
      "image/png": "[encoded data removed]",
      "text/plain": [
       "<Figure size 432x288 with 4 Axes>"
      ]
     },
     "metadata": {
      "needs_background": "light"
     },
     "output_type": "display_data"
    }
   ],
   "source": [
    "# at some point (which is not obvious in the assignment pdf as of March 1st) z_t became a 4x1 vector. \n",
    "# To plot all 4 variables, I did so starting from Task 4.\n",
    "fig = plt.figure()\n",
    "\n",
    "plt.subplot(2,2,1)\n",
    "plot([g[i]*100 for i in range(1,N)], linewidth = 2)\n",
    "plt.title('Government spending')\n",
    "plt.ylabel('g_t')\n",
    "plt.xlabel('t')\n",
    "\n",
    "plt.subplot(2,2,2)\n",
    "plot([Y[i]*100 for i in range(1,N)], linewidth = 2)\n",
    "plt.title('Output')\n",
    "plt.ylabel('Y_t')\n",
    "plt.xlabel('t')\n",
    "\n",
    "plt.subplot(2,2,3)\n",
    "plot([Pi[i]*100 for i in range(1,N)], linewidth = 2)\n",
    "plt.title('Inflation')\n",
    "plt.ylabel('Pi_t')\n",
    "plt.xlabel('t')\n",
    "\n",
    "plt.subplot(2,2,4)\n",
    "plot([ni[i]*100 for i in range(1,N)], linewidth = 2)\n",
    "plt.title('Nominal Interest Rate')\n",
    "plt.ylabel('ni_t')\n",
    "plt.xlabel('t')\n",
    "\n",
    "plt.tight_layout()"
   ]
  },
  {
   "cell_type": "markdown",
   "metadata": {},
   "source": [
    "### Task 6: Give economic intuition for all variables.\n",
    "\n",
    "- G is directly effected by the shock. Since rho_g is smaller than 1 and there is not any shock after t0, the government spending declines until it is 0 again.\n",
    "- Output increases analogously since it is per definition the sum of consumption and government spending. The negative effect of the real interest rate is not observable by the eye since quite small.\n",
    "- From the assignment description: \"The net effect of government spending on inflation hence is positive.\"; \n",
    "- The nominal interest rate follows inflation and output and therefore has a similar form to those plots.\n",
    "\n"
   ]
  },
  {
   "cell_type": "markdown",
   "metadata": {},
   "source": [
    "### Task 7:\n",
    "Define a new function that can perform the linear time iteration algorithm for any given model. Your function should have four input arguments. The first three input arguments should be the matrices A,M and D and the fourth input argument should be an initial guess for the matrix F. Your new function should return the solution for the matrices F and Q that satisfy z_t = F*z_(t- 1) + Q*u_t."
   ]
  },
  {
   "cell_type": "code",
   "execution_count": 109,
   "metadata": {},
   "outputs": [],
   "source": [
    "def model7(A,M,D,F):\n",
    "    n = len(A[0])\n",
    "    Fnew = np.zeros((n,n)) # iniitialize the Fnew matrix with dynamic size\n",
    "    \n",
    "    # as in the lecture we compute Fnew and update it until it converges\n",
    "    Fnew = np.dot(np.linalg.inv(A-np.dot(M,F)),D) \n",
    "    \n",
    "    while np.max(np.abs(F-Fnew)) > 0.000001:\n",
    "        F=Fnew\n",
    "        Fnew = np.dot(np.linalg.inv(A-np.dot(M,F)),D)\n",
    "    Q = np.linalg.inv(A-np.dot(M,Fnew))\n",
    "    return Fnew,Q "
   ]
  },
  {
   "cell_type": "markdown",
   "metadata": {},
   "source": [
    "### Task 8:\n",
    "- Write model in form of (9) but extend z_t with government spending: z_t = [g_t, y_t, pi_t, ni_t].\n",
    "- write down the 4x4 matrices A,M and D in your code\n",
    "- Next, ’Call’ the function that you defined in the previous question with the 3 matrices that define our model and with an initial guess for F as input arguments"
   ]
  },
  {
   "cell_type": "code",
   "execution_count": 110,
   "metadata": {},
   "outputs": [
    {
     "data": {
      "text/plain": [
       "(array([[0.7       , 0.        , 0.        , 0.        ],\n",
       "        [0.3739021 , 0.        , 0.        , 0.        ],\n",
       "        [0.26214345, 0.        , 0.        , 0.        ],\n",
       "        [0.43060539, 0.        , 0.        , 0.        ]]),\n",
       " array([[ 0.        ,  0.        ,  0.        ,  1.        ],\n",
       "        [ 0.6557377 , -0.73770492, -0.49180328,  0.53414614],\n",
       "        [ 0.26229508,  0.70491803, -0.19672131,  0.37449119],\n",
       "        [ 0.45901639,  0.98360656,  0.6557377 ,  0.6151514 ]]))"
      ]
     },
     "execution_count": 110,
     "metadata": {},
     "output_type": "execute_result"
    }
   ],
   "source": [
    "# I write the 4 equations as in Assignment 1 so that it is clear how the matrices must look to represent the model.\n",
    "A = np.array([\n",
    "            [-gbar,1,0,(1-gbar)/sigma],\n",
    "            [kappa*gbar/(1-gbar), -kappa*sigma/(1-gbar),1,0],\n",
    "            [0,-phi_y,-phi_pi,1],\n",
    "            [1,0,0,0]])\n",
    "\n",
    "# only expectations of output and inflation influence the model\n",
    "M = np.array([\n",
    "            [gbar,1,(1-gbar)/sigma,0],\n",
    "            [0,0,beta,0],\n",
    "            [0,0,0,0],\n",
    "            [0,0,0,0]])\n",
    "# only in (4), z_(t-1) is used (g_(t-1))\n",
    "D = np.zeros((4,4))\n",
    "D[3,0] = rho_g\n",
    "\n",
    "F = np.ones((4,4))\n",
    "model7(A,M,D,F)"
   ]
  },
  {
   "cell_type": "markdown",
   "metadata": {},
   "source": [
    "### Task 9: \n",
    "#### a) Interpret Fnew and Q\n",
    "\n",
    "Fnew:<br>\n",
    "-> each column describes the effect of one element in z_(t-1) on z_t.\n",
    "The first column describes the effect of g_(t-1) on g_t, y_t, pi_t and ni_t (in that order). The same applies to the other columns, although they are zero. To get the total effect of e.g z_(t-1) on g_t, one would add up the first row multiplied with z_(t-1). \n",
    "\n",
    "\n",
    "Q: <br>\n",
    "-> Q is the response to shocks. Each column corresponds to a shock to z_t. So the first column corresponds to a shock to g_t, the second to a shock on output, the third to a shock on inflation and the last to a shock on the nominal interest rate. For example we cann see that the effect of a shock on g_t, eta_gt is a one-to-one realtionship which makes intuitivly sense when looking at equation 4 of our model.\n"
   ]
  },
  {
   "cell_type": "markdown",
   "metadata": {},
   "source": [
    "#### b) Also compare your results from question 3 with F and Q. Explain the similarities and/or differences that you observe:\n",
    "The results are different, since F_new and Q are computed taking into account the effect of changes in government spending while C_g and C_eta_gt are computed assuming that both variables are exogenous shocks to output and inflation.\n"
   ]
  }
 ],
 "metadata": {
  "interpreter": {
   "hash": "854dd31d8a762741532201a73c102ff97df2aa6d3df808c117025003f269d370"
  },
  "kernelspec": {
   "display_name": "Python 3.8.5 64-bit ('base': conda)",
   "language": "python",
   "name": "python3"
  },
  "language_info": {
   "codemirror_mode": {
    "name": "ipython",
    "version": 3
   },
   "file_extension": ".py",
   "mimetype": "text/x-python",
   "name": "python",
   "nbconvert_exporter": "python",
   "pygments_lexer": "ipython3",
   "version": "3.8.5"
  },
  "orig_nbformat": 4
 },
 "nbformat": 4,
 "nbformat_minor": 2
}
